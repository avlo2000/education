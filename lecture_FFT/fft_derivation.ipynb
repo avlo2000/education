{
 "cells": [
  {
   "cell_type": "markdown",
   "metadata": {},
   "source": [
    "# Fast Fourier Transform (FFT) derivation"
   ]
  },
  {
   "cell_type": "code",
   "execution_count": 2,
   "metadata": {},
   "outputs": [
    {
     "name": "stdout",
     "output_type": "stream",
     "text": [
      "Collecting sympy\n",
      "  Downloading sympy-1.13.3-py3-none-any.whl (6.2 MB)\n",
      "\u001b[2K     \u001b[90m━━━━━━━━━━━━━━━━━━━━━━━━━━━━━━━━━━━━━━━━\u001b[0m \u001b[32m6.2/6.2 MB\u001b[0m \u001b[31m385.7 kB/s\u001b[0m eta \u001b[36m0:00:00\u001b[0m00:01\u001b[0m00:01\u001b[0m\n",
      "\u001b[?25hCollecting mpmath<1.4,>=1.1.0\n",
      "  Downloading mpmath-1.3.0-py3-none-any.whl (536 kB)\n",
      "\u001b[2K     \u001b[90m━━━━━━━━━━━━━━━━━━━━━━━━━━━━━━━━━━━━━\u001b[0m \u001b[32m536.2/536.2 KB\u001b[0m \u001b[31m425.9 kB/s\u001b[0m eta \u001b[36m0:00:00\u001b[0m00:01\u001b[0m00:01\u001b[0m\n",
      "\u001b[?25hInstalling collected packages: mpmath, sympy\n",
      "Successfully installed mpmath-1.3.0 sympy-1.13.3\n",
      "Note: you may need to restart the kernel to use updated packages.\n"
     ]
    }
   ],
   "source": [
    "%pip install sympy"
   ]
  },
  {
   "cell_type": "markdown",
   "metadata": {},
   "source": [
    "## FFT dervation"
   ]
  },
  {
   "cell_type": "markdown",
   "metadata": {},
   "source": [
    "## FFT Decomposition Proof\n",
    "\n",
    "We'll demonstrate how the Discrete Fourier Transform (DFT) can be decomposed recursively using the divide-and-conquer approach, which leads to the Fast Fourier Transform (FFT) algorithm.\n",
    "\n",
    "Starting with the DFT definition:\n",
    "\n",
    "$$X[k] = \\sum_{n=0}^{N-1} x[n]e^{-i\\frac{2\\pi kn}{N}}$$\n",
    "\n",
    "We can split this sum into even and odd indices:\n",
    "\n",
    "$$X[k] = \\sum_{m=0}^{\\frac{N}{2}-1} x[2m]e^{-i\\frac{2\\pi k(2m)}{N}} + \\sum_{m=0}^{\\frac{N}{2}-1} x[2m+1]e^{-i\\frac{2\\pi k(2m+1)}{N}}$$\n",
    "\n",
    "Let's simplify the exponential terms:\n",
    "\n",
    "$$e^{-i\\frac{2\\pi k(2m)}{N}} = e^{-i\\frac{2\\pi km}{N/2}} \\quad \\text{and} \\quad e^{-i\\frac{2\\pi k(2m+1)}{N}} = e^{-i\\frac{2\\pi km}{N/2}} \\cdot e^{-i\\frac{2\\pi k}{N}}$$\n",
    "\n",
    "This gives us:\n",
    "\n",
    "$$X[k] = \\sum_{m=0}^{\\frac{N}{2}-1} x[2m]e^{-i\\frac{2\\pi km}{N/2}} + e^{-i\\frac{2\\pi k}{N}}\\sum_{m=0}^{\\frac{N}{2}-1} x[2m+1]e^{-i\\frac{2\\pi km}{N/2}}$$\n",
    "\n",
    "Now we can define:\n",
    "- $X_{\\text{even}}[k] = \\sum_{m=0}^{\\frac{N}{2}-1} x[2m]e^{-i\\frac{2\\pi km}{N/2}}$ (DFT of even-indexed elements)\n",
    "- $X_{\\text{odd}}[k] = \\sum_{m=0}^{\\frac{N}{2}-1} x[2m+1]e^{-i\\frac{2\\pi km}{N/2}}$ (DFT of odd-indexed elements)\n",
    "\n",
    "This gives us the key FFT decomposition formula:\n",
    "\n",
    "$$X[k] = X_{\\text{even}}[k] + e^{-i\\frac{2\\pi k}{N}} \\cdot X_{\\text{odd}}[k]$$\n",
    "\n",
    "For $k + \\frac{N}{2}$, using the periodicity property:\n",
    "\n",
    "$$X[k+\\frac{N}{2}] = X_{\\text{even}}[k] + e^{-i\\frac{2\\pi (k+N/2)}{N}} \\cdot X_{\\text{odd}}[k]$$\n",
    "\n",
    "Since $e^{-i\\frac{2\\pi (k+N/2)}{N}} = e^{-i\\frac{2\\pi k}{N}} \\cdot e^{-i\\pi} = -e^{-i\\frac{2\\pi k}{N}}$, we get:\n",
    "\n",
    "$$X[k+\\frac{N}{2}] = X_{\\text{even}}[k] - e^{-i\\frac{2\\pi k}{N}} \\cdot X_{\\text{odd}}[k]$$\n",
    "\n",
    "This allows us to compute the full DFT using only half the operations, and by applying this recursively, we achieve the $O(N \\log N)$ complexity of the FFT algorithm."
   ]
  },
  {
   "cell_type": "code",
   "execution_count": 9,
   "metadata": {},
   "outputs": [
    {
     "name": "stdout",
     "output_type": "stream",
     "text": [
      "Original DFT formula:\n"
     ]
    },
    {
     "data": {
      "text/latex": [
       "$\\displaystyle {X}_{k} = \\sum_{n=0}^{N - 1} e^{- \\frac{2.0 i \\pi k n}{N}} {x}_{n}$"
      ],
      "text/plain": [
       "Eq(X[k], Sum(exp(-2.0*I*pi*k*n/N)*x[n], (n, 0, N - 1)))"
      ]
     },
     "metadata": {},
     "output_type": "display_data"
    },
    {
     "name": "stdout",
     "output_type": "stream",
     "text": [
      "\n",
      "Split into even and odd indices:\n"
     ]
    },
    {
     "data": {
      "text/latex": [
       "$\\displaystyle {X}_{k} = \\sum_{m=0}^{\\frac{N}{2} - 1} e^{- \\frac{4.0 i \\pi k m}{N}} {x}_{2 m} + \\sum_{m=0}^{\\frac{N}{2} - 1} e^{- \\frac{2.0 i \\pi k \\left(2 m + 1\\right)}{N}} {x}_{2 m + 1}$"
      ],
      "text/plain": [
       "Eq(X[k], Sum(exp(-4.0*I*pi*k*m/N)*x[2*m], (m, 0, N/2 - 1)) + Sum(exp(-2.0*I*pi*k*(2*m + 1)/N)*x[2*m + 1], (m, 0, N/2 - 1)))"
      ]
     },
     "metadata": {},
     "output_type": "display_data"
    },
    {
     "name": "stdout",
     "output_type": "stream",
     "text": [
      "\n",
      "Simplified exponential terms:\n"
     ]
    },
    {
     "data": {
      "text/latex": [
       "$\\displaystyle {X}_{k} = \\sum_{m=0}^{\\frac{N}{2} - 1} e^{- \\frac{4.0 i \\pi k m}{N}} {x}_{2 m} + e^{- \\frac{2.0 i \\pi k}{N}} \\sum_{m=0}^{\\frac{N}{2} - 1} e^{- \\frac{4.0 i \\pi k m}{N}} {x}_{2 m + 1}$"
      ],
      "text/plain": [
       "Eq(X[k], Sum(exp(-4.0*I*pi*k*m/N)*x[2*m], (m, 0, N/2 - 1)) + exp(-2.0*I*pi*k/N)*Sum(exp(-4.0*I*pi*k*m/N)*x[2*m + 1], (m, 0, N/2 - 1)))"
      ]
     },
     "metadata": {},
     "output_type": "display_data"
    },
    {
     "name": "stdout",
     "output_type": "stream",
     "text": [
      "\n",
      "Defining smaller DFTs:\n"
     ]
    },
    {
     "data": {
      "text/latex": [
       "$\\displaystyle X_{even k} = \\sum_{m=0}^{\\frac{N}{2} - 1} e^{- \\frac{4.0 i \\pi k m}{N}} {x}_{2 m}$"
      ],
      "text/plain": [
       "Eq(X_even_k, Sum(exp(-4.0*I*pi*k*m/N)*x[2*m], (m, 0, N/2 - 1)))"
      ]
     },
     "metadata": {},
     "output_type": "display_data"
    },
    {
     "data": {
      "text/latex": [
       "$\\displaystyle X_{odd k} = \\sum_{m=0}^{\\frac{N}{2} - 1} e^{- \\frac{4.0 i \\pi k m}{N}} {x}_{2 m + 1}$"
      ],
      "text/plain": [
       "Eq(X_odd_k, Sum(exp(-4.0*I*pi*k*m/N)*x[2*m + 1], (m, 0, N/2 - 1)))"
      ]
     },
     "metadata": {},
     "output_type": "display_data"
    },
    {
     "name": "stdout",
     "output_type": "stream",
     "text": [
      "\n",
      "FFT recurrence relation:\n"
     ]
    },
    {
     "data": {
      "text/latex": [
       "$\\displaystyle {X}_{k} = X_{even k} + X_{odd k} e^{- \\frac{2.0 i \\pi k}{N}}$"
      ],
      "text/plain": [
       "Eq(X[k], X_even_k + X_odd_k*exp(-2.0*I*pi*k/N))"
      ]
     },
     "metadata": {},
     "output_type": "display_data"
    },
    {
     "name": "stdout",
     "output_type": "stream",
     "text": [
      "\n",
      "Twiddle factor for k+N/2:\n"
     ]
    },
    {
     "data": {
      "text/latex": [
       "$\\displaystyle e^{- \\frac{2.0 i \\pi \\left(\\frac{N}{2} + k\\right)}{N}} = e^{- \\frac{1.0 i \\pi \\left(N + 2 k\\right)}{N}}$"
      ],
      "text/plain": [
       "Eq(exp(-2.0*I*pi*(N/2 + k)/N), exp(-1.0*I*pi*(N + 2*k)/N))"
      ]
     },
     "metadata": {},
     "output_type": "display_data"
    },
    {
     "name": "stdout",
     "output_type": "stream",
     "text": [
      "\n",
      "Recurrence relation for X[k+N/2]:\n"
     ]
    },
    {
     "data": {
      "text/latex": [
       "$\\displaystyle {X}_{\\frac{N}{2} + k} = X_{even k} + X_{odd k} e^{- \\frac{1.0 i \\pi \\left(N + 2 k\\right)}{N}}$"
      ],
      "text/plain": [
       "Eq(X[N/2 + k], X_even_k + X_odd_k*exp(-1.0*I*pi*(N + 2*k)/N))"
      ]
     },
     "metadata": {},
     "output_type": "display_data"
    },
    {
     "data": {
      "text/latex": [
       "$\\displaystyle {X}_{\\frac{N}{2} + k} = X_{even k} - X_{odd k} e^{- \\frac{2.0 i \\pi k}{N}}$"
      ],
      "text/plain": [
       "Eq(X[N/2 + k], X_even_k - X_odd_k*exp(-2.0*I*pi*k/N))"
      ]
     },
     "metadata": {},
     "output_type": "display_data"
    },
    {
     "name": "stdout",
     "output_type": "stream",
     "text": [
      "\n",
      "Complexity Analysis:\n",
      "Traditional DFT: O(N²) operations\n",
      "FFT via divide and conquer: O(N log N) operations\n"
     ]
    }
   ],
   "source": [
    "import sympy as sp\n",
    "from IPython.display import display, Math\n",
    "\n",
    "# Define symbols\n",
    "n, m, k, X_even_k, X_odd_k = sp.symbols('n m k X_even_k X_odd_k', integer=True)\n",
    "N = sp.Symbol('N', integer=True, positive=True)\n",
    "x = sp.IndexedBase('x')\n",
    "X = sp.IndexedBase('X')\n",
    "\n",
    "# Original DFT formula\n",
    "X_k_formula = sp.Sum(x[n] * sp.exp(-2j * sp.pi * k * n / N), (n, 0, N-1))\n",
    "X_k_eq = sp.Eq(X[k], X_k_formula)\n",
    "\n",
    "print(\"Original DFT formula:\")\n",
    "display(X_k_eq)\n",
    "\n",
    "# Split into even and odd indices\n",
    "N_half = N/2\n",
    "X_k_even = sp.Sum(x[2*m] * sp.exp(-2j * sp.pi * k * 2 * m / N), (m, 0, N_half-1))\n",
    "X_k_odd = sp.Sum(x[2*m+1] * sp.exp(-2j * sp.pi * k * (2*m+1) / N), (m, 0, N_half-1))\n",
    "X_k_split = X_k_even + X_k_odd\n",
    "\n",
    "print(\"\\nSplit into even and odd indices:\")\n",
    "display(sp.Eq(X[k], X_k_split))\n",
    "\n",
    "# Simplify the exponential terms\n",
    "X_k_even_simplified = sp.Sum(x[2*m] * sp.exp(-2j * sp.pi * k * m / (N/2)), (m, 0, N_half-1))\n",
    "X_k_odd_simplified = sp.exp(-2j * sp.pi * k / N) * sp.Sum(x[2*m+1] * sp.exp(-2j * sp.pi * k * m / (N/2)), (m, 0, N_half-1))\n",
    "\n",
    "print(\"\\nSimplified exponential terms:\")\n",
    "display(sp.Eq(X[k], X_k_even_simplified + X_k_odd_simplified))\n",
    "\n",
    "# Define the smaller DFTs\n",
    "print(\"\\nDefining smaller DFTs:\")\n",
    "X_even_k_def = sp.Eq(X_even_k, sp.Sum(x[2*m] * sp.exp(-2j * sp.pi * k * m / (N/2)), (m, 0, N_half-1)))\n",
    "X_odd_k_def = sp.Eq(X_odd_k, sp.Sum(x[2*m+1] * sp.exp(-2j * sp.pi * k * m / (N/2)), (m, 0, N_half-1)))\n",
    "display(X_even_k_def)\n",
    "display(X_odd_k_def)\n",
    "\n",
    "# Final FFT recurrence relation\n",
    "twiddle_factor = sp.exp(-2j * sp.pi * k / N)\n",
    "X_k_recurrence = sp.Eq(X[k], X_even_k + twiddle_factor * X_odd_k)\n",
    "print(\"\\nFFT recurrence relation:\")\n",
    "display(X_k_recurrence)\n",
    "\n",
    "# For k + N/2\n",
    "k_plus_half = k + N/2\n",
    "twiddle_factor_half = sp.exp(-2j * sp.pi * k_plus_half / N)\n",
    "twiddle_factor_half_simplified = sp.simplify(twiddle_factor_half)\n",
    "print(\"\\nTwiddle factor for k+N/2:\")\n",
    "display(sp.Eq(twiddle_factor_half, twiddle_factor_half_simplified))\n",
    "\n",
    "# Final relation for X[k+N/2]\n",
    "X_k_half_recurrence = sp.Eq(X[k_plus_half], X_even_k + twiddle_factor_half_simplified * X_odd_k)\n",
    "X_k_half_recurrence_simplified = sp.Eq(X[k_plus_half], X_even_k - twiddle_factor * X_odd_k)\n",
    "print(\"\\nRecurrence relation for X[k+N/2]:\")\n",
    "display(X_k_half_recurrence)\n",
    "display(X_k_half_recurrence_simplified)\n",
    "\n",
    "# Complexity analysis\n",
    "print(\"\\nComplexity Analysis:\")\n",
    "print(\"Traditional DFT: O(N²) operations\")\n",
    "print(\"FFT via divide and conquer: O(N log N) operations\")\n"
   ]
  }
 ],
 "metadata": {
  "kernelspec": {
   "display_name": "venv",
   "language": "python",
   "name": "python3"
  },
  "language_info": {
   "codemirror_mode": {
    "name": "ipython",
    "version": 3
   },
   "file_extension": ".py",
   "mimetype": "text/x-python",
   "name": "python",
   "nbconvert_exporter": "python",
   "pygments_lexer": "ipython3",
   "version": "3.10.12"
  }
 },
 "nbformat": 4,
 "nbformat_minor": 2
}
