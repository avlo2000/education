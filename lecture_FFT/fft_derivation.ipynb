{
 "cells": [
  {
   "cell_type": "markdown",
   "metadata": {},
   "source": [
    "# Fast Fourier Transform (FFT) derivation"
   ]
  },
  {
   "cell_type": "code",
   "execution_count": 18,
   "metadata": {},
   "outputs": [
    {
     "name": "stdout",
     "output_type": "stream",
     "text": [
      "Original DFT formula:\n"
     ]
    },
    {
     "data": {
      "text/latex": [
       "$\\displaystyle X[k] = \\sum_{n=0}^{N - 1} e^{- \\frac{2 i \\pi k n}{N}} {x}_{n}$"
      ],
      "text/plain": [
       "Eq(X[k], Sum(exp(-2*I*pi*k*n/N)*x[n], (n, 0, N - 1)))"
      ]
     },
     "metadata": {},
     "output_type": "display_data"
    },
    {
     "name": "stdout",
     "output_type": "stream",
     "text": [
      "\n",
      "Split into even and odd terms:\n"
     ]
    },
    {
     "data": {
      "text/latex": [
       "$\\displaystyle \\sum_{n=0}^{\\left\\lfloor{\\frac{N}{2}}\\right\\rfloor - 1} e^{\\frac{- 4 i \\pi k n - 2 i \\pi k}{N}} {x}_{2 n + 1} + \\sum_{n=0}^{\\left\\lfloor{\\frac{N}{2}}\\right\\rfloor - 1} e^{- \\frac{4 i \\pi k n}{N}} {x}_{2 n} = \\sum_{n=0}^{\\left\\lfloor{\\frac{N}{2}}\\right\\rfloor - 1} e^{- \\frac{4 i \\pi k n}{N}} {x}_{2 n} + \\sum_{n=0}^{\\left\\lfloor{\\frac{N}{2}}\\right\\rfloor - 1} e^{- \\frac{2 i \\pi k \\left(2 n + 1\\right)}{N}} {x}_{2 n + 1}$"
      ],
      "text/plain": [
       "Eq(Sum(exp((-4*I*pi*k*n - 2*I*pi*k)/N)*x[2*n + 1], (n, 0, floor(N/2) - 1)) + Sum(exp(-4*I*pi*k*n/N)*x[2*n], (n, 0, floor(N/2) - 1)), Sum(exp(-4*I*pi*k*n/N)*x[2*n], (n, 0, floor(N/2) - 1)) + Sum(exp(-2*I*pi*k*(2*n + 1)/N)*x[2*n + 1], (n, 0, floor(N/2) - 1)))"
      ]
     },
     "metadata": {},
     "output_type": "display_data"
    },
    {
     "data": {
      "text/latex": [
       "$\\displaystyle X[k] = \\text{False}$"
      ],
      "text/plain": [
       "Eq(X[k], False)"
      ]
     },
     "metadata": {},
     "output_type": "display_data"
    }
   ],
   "source": [
    "import sympy as sp\n",
    "\n",
    "# Define basic symbols\n",
    "n, k, X_k = sp.symbols('n k X[k]', integer=True)\n",
    "N = sp.Symbol('N', integer=True, positive=True)\n",
    "x = sp.IndexedBase('x')\n",
    "W = sp.exp(-2 * sp.pi * sp.I / N)\n",
    "\n",
    "X_k_dft = sp.Sum(x[n] * W**(k*n), (n, 0, N-1))\n",
    "print(\"Original DFT formula:\")\n",
    "display(sp.Eq(X_k, X_k_dft))\n",
    "\n",
    "n_even = 2*n\n",
    "n_odd = 2*n + 1\n",
    "N_half = N//2\n",
    "\n",
    "X_k_split = sp.Sum(x[2*n] * W**(k*2*n), (n, 0, N_half-1)) + \\\n",
    "            sp.Sum(x[2*n + 1] * W**(k*(2*n + 1)), (n, 0, N_half-1))\n",
    "\n",
    "print(\"\\nSplit into even and odd terms:\")\n",
    "\n",
    "X_k_split_outed = sp.Sum(x[2*n] * W**(k*2*n), (n, 0, N_half-1)) + \\\n",
    "            sp.Sum(x[2*n + 1] * sp.exp((-4 * sp.pi * sp.I * k * n - 2 * sp.pi * sp.I * k) / N), (n, 0, N_half-1))\n",
    "\n",
    "# Simplify using W**(N/2) = -1 and W**N = 1\n",
    "X_k_factored = sp.Sum(x[2*n] * (W**2)**(k*n), (n, 0, N_half-1)) + \\\n",
    "               W**k * sp.Sum(x[2*n + 1] * (W**2)**(k*n), (n, 0, N_half-1))\n",
    "display(sp.Eq(X_k_split_outed, X_k_split))\n",
    "derivateion = sp.Eq(X_k, sp.Eq(X_k_split, sp.Eq(X_k_split_outed, X_k_factored)))\n",
    "display(derivateion)"
   ]
  },
  {
   "cell_type": "markdown",
   "metadata": {},
   "source": [
    "## FFT Decomposition Proof\n",
    "\n",
    "We'll show that FFT can be decomposed into:\n",
    "```\n",
    "X[k] = F_even[k] + W^k * F_odd[k]\n",
    "```\n",
    "where F_even and F_odd are FFTs of even and odd indexed elements respectively."
   ]
  }
 ],
 "metadata": {
  "kernelspec": {
   "display_name": "venv",
   "language": "python",
   "name": "python3"
  },
  "language_info": {
   "codemirror_mode": {
    "name": "ipython",
    "version": 3
   },
   "file_extension": ".py",
   "mimetype": "text/x-python",
   "name": "python",
   "nbconvert_exporter": "python",
   "pygments_lexer": "ipython3",
   "version": "3.10.2"
  }
 },
 "nbformat": 4,
 "nbformat_minor": 2
}
